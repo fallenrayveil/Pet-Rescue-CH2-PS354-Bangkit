{
  "nbformat": 4,
  "nbformat_minor": 0,
  "metadata": {
    "colab": {
      "provenance": []
    },
    "kernelspec": {
      "name": "python3",
      "display_name": "Python 3"
    },
    "language_info": {
      "name": "python"
    }
  },
  "cells": [
    {
      "cell_type": "code",
      "execution_count": null,
      "metadata": {
        "id": "E6KImb918Jue",
        "colab": {
          "base_uri": "https://localhost:8080/"
        },
        "outputId": "9ec34ede-dfba-4d51-f866-66b359fb209f"
      },
      "outputs": [
        {
          "output_type": "stream",
          "name": "stdout",
          "text": [
            "Drive already mounted at /content/drive; to attempt to forcibly remount, call drive.mount(\"/content/drive\", force_remount=True).\n",
            "inceptionv3 has been saved as `inceptionv3.tflite`\n"
          ]
        }
      ],
      "source": [
        "from google.colab import drive\n",
        "from google.colab import files\n",
        "from tensorflow.keras.models import load_model\n",
        "from tensorflow.keras.preprocessing import image\n",
        "import numpy as np\n",
        "\n",
        "# Mount Google Drive\n",
        "drive.mount('/content/drive')\n",
        "\n",
        "# Path file model di Google Drive\n",
        "model_path = '/content/drive/My Drive/inceptionv3_fix.h5'\n",
        "\n",
        "import tensorflow as tf\n",
        "\n",
        "# Load your Keras model\n",
        "model = tf.keras.models.load_model(model_path)\n",
        "\n",
        "# Convert the Keras model to TF Lite format (float model)\n",
        "converter = tf.lite.TFLiteConverter.from_keras_model(model)\n",
        "tflite_float_model = converter.convert()\n",
        "\n",
        "# Save the float model to a file\n",
        "with open('inceptionv3.tflite', 'wb') as f:\n",
        "    f.write(tflite_float_model)\n",
        "\n",
        "print('inceptionv3 has been saved as `inceptionv3.tflite`')\n"
      ]
    }
  ]
}